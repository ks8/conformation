{
 "cells": [
  {
   "cell_type": "code",
   "execution_count": 1,
   "metadata": {},
   "outputs": [],
   "source": [
    "import numpy as np\n",
    "import rdkit\n",
    "from rdkit import Chem\n",
    "from rdkit.Chem import AllChem, rdDistGeom\n",
    "import py3Dmol"
   ]
  },
  {
   "cell_type": "code",
   "execution_count": 2,
   "metadata": {},
   "outputs": [],
   "source": [
    "def MolTo3DView(mol, size=(300, 300), style=\"stick\", surface=False, opacity=0.5):\n",
    "    \"\"\"Draw molecule in 3D\n",
    "    \n",
    "    Args:\n",
    "    ----\n",
    "        mol: rdMol, molecule to show\n",
    "        size: tuple(int, int), canvas size\n",
    "        style: str, type of drawing molecule\n",
    "               style can be 'line', 'stick', 'sphere', 'carton'\n",
    "        surface, bool, display SAS\n",
    "        opacity, float, opacity of surface, range 0.0-1.0\n",
    "    Return:\n",
    "    ----\n",
    "        viewer: py3Dmol.view, a class for constructing embedded 3Dmol.js views in ipython notebooks.\n",
    "    \"\"\"\n",
    "    assert style in ('line', 'stick', 'sphere', 'cartoon')\n",
    "    mblock = Chem.MolToMolBlock(mol)\n",
    "    viewer = py3Dmol.view(width=size[0], height=size[1])\n",
    "    viewer.addModel(mblock, 'mol')\n",
    "    viewer.setStyle({style:{'colorscheme':'cyanCarbon'}})\n",
    "    if surface:\n",
    "        viewer.addSurface(py3Dmol.SAS, {'opacity': opacity})\n",
    "    viewer.zoomTo()\n",
    "    return viewer\n",
    "\n",
    "\n",
    "def smi2conf(smiles, path, offset):\n",
    "    '''Convert SMILES to rdkit.Mol with 3D coordinates'''\n",
    "    mol = Chem.MolFromSmiles(smiles)\n",
    "    if mol is not None:\n",
    "        mol = Chem.AddHs(mol)\n",
    "        ps = AllChem.ETKDG()\n",
    "        distmat = np.loadtxt(path)\n",
    "        num_atoms = distmat.shape[0]\n",
    "        for i in range(num_atoms):\n",
    "            for j in range(num_atoms):\n",
    "                if j > i:\n",
    "                    distmat[i][j] += offset\n",
    "                    distmat[j][i] -= offset\n",
    "        ps.SetBoundsMat(distmat)\n",
    "        AllChem.EmbedMolecule(mol, params=ps)\n",
    "        \n",
    "        return mol\n",
    "    else:\n",
    "        return None"
   ]
  },
  {
   "cell_type": "code",
   "execution_count": 3,
   "metadata": {},
   "outputs": [],
   "source": [
    "smiles = \"CC\"\n",
    "path = \"distmat-0.txt\"\n",
    "out = \"conf-distmat-0.txt\"\n",
    "offset = 0.0005\n",
    "img_height = 600\n",
    "img_width = 600\n",
    "img_style = \"stick\""
   ]
  },
  {
   "cell_type": "code",
   "execution_count": 5,
   "metadata": {},
   "outputs": [
    {
     "data": {
      "application/3dmoljs_load.v0": "<div id=\"3dmolviewer_15936374205719693\"  style=\"position: relative; width: 600px; height: 600px\">\n        <p id=\"3dmolwarning_15936374205719693\" style=\"background-color:#ffcccc;color:black\">You appear to be running in JupyterLab (or JavaScript failed to load for some other reason).  You need to install the 3dmol extension: <br>\n        <tt>jupyter labextension install jupyterlab_3dmol</tt></p>\n        </div>\n<script>\n\nvar loadScriptAsync = function(uri){\n  return new Promise((resolve, reject) => {\n    var tag = document.createElement('script');\n    tag.src = uri;\n    tag.async = true;\n    tag.onload = () => {\n      resolve();\n    };\n  var firstScriptTag = document.getElementsByTagName('script')[0];\n  firstScriptTag.parentNode.insertBefore(tag, firstScriptTag);\n});\n};\n\nif(typeof $3Dmolpromise === 'undefined') {\n$3Dmolpromise = null;\n  $3Dmolpromise = loadScriptAsync('https://3dmol.csb.pitt.edu/build/3Dmol.js');\n}\n\nvar viewer_15936374205719693 = null;\nvar warn = document.getElementById(\"3dmolwarning_15936374205719693\");\nif(warn) {\n    warn.parentNode.removeChild(warn);\n}\n$3Dmolpromise.then(function() {\nviewer_15936374205719693 = $3Dmol.createViewer($(\"#3dmolviewer_15936374205719693\"),{backgroundColor:\"white\"});\n\tviewer_15936374205719693.addModel(\"\\n     RDKit          3D\\n\\n  8  7  0  0  0  0  0  0  0  0999 V2000\\n    0.7279    0.0348   -0.0415 C   0  0  0  0  0  0  0  0  0  0  0  0\\n   -0.8348    0.0110    0.0122 C   0  0  0  0  0  0  0  0  0  0  0  0\\n    1.2611   -0.7421   -0.6175 H   0  0  0  0  0  0  0  0  0  0  0  0\\n    1.1431   -0.1586    1.0748 H   0  0  0  0  0  0  0  0  0  0  0  0\\n    1.1086    1.0050   -0.3841 H   0  0  0  0  0  0  0  0  0  0  0  0\\n   -1.2437    0.9570    0.4002 H   0  0  0  0  0  0  0  0  0  0  0  0\\n   -1.0975   -0.1574   -0.9905 H   0  0  0  0  0  0  0  0  0  0  0  0\\n   -1.0648   -0.9498    0.5466 H   0  0  0  0  0  0  0  0  0  0  0  0\\n  1  2  1  0\\n  1  3  1  0\\n  1  4  1  0\\n  1  5  1  0\\n  2  6  1  0\\n  2  7  1  0\\n  2  8  1  0\\nM  END\\n\",\"mol\");\n\tviewer_15936374205719693.setStyle({\"stick\": {\"colorscheme\": \"cyanCarbon\"}});\n\tviewer_15936374205719693.zoomTo();\nviewer_15936374205719693.render();\n});\n</script>",
      "text/html": [
       "<div id=\"3dmolviewer_15936374205719693\"  style=\"position: relative; width: 600px; height: 600px\">\n",
       "        <p id=\"3dmolwarning_15936374205719693\" style=\"background-color:#ffcccc;color:black\">You appear to be running in JupyterLab (or JavaScript failed to load for some other reason).  You need to install the 3dmol extension: <br>\n",
       "        <tt>jupyter labextension install jupyterlab_3dmol</tt></p>\n",
       "        </div>\n",
       "<script>\n",
       "\n",
       "var loadScriptAsync = function(uri){\n",
       "  return new Promise((resolve, reject) => {\n",
       "    var tag = document.createElement('script');\n",
       "    tag.src = uri;\n",
       "    tag.async = true;\n",
       "    tag.onload = () => {\n",
       "      resolve();\n",
       "    };\n",
       "  var firstScriptTag = document.getElementsByTagName('script')[0];\n",
       "  firstScriptTag.parentNode.insertBefore(tag, firstScriptTag);\n",
       "});\n",
       "};\n",
       "\n",
       "if(typeof $3Dmolpromise === 'undefined') {\n",
       "$3Dmolpromise = null;\n",
       "  $3Dmolpromise = loadScriptAsync('https://3dmol.csb.pitt.edu/build/3Dmol.js');\n",
       "}\n",
       "\n",
       "var viewer_15936374205719693 = null;\n",
       "var warn = document.getElementById(\"3dmolwarning_15936374205719693\");\n",
       "if(warn) {\n",
       "    warn.parentNode.removeChild(warn);\n",
       "}\n",
       "$3Dmolpromise.then(function() {\n",
       "viewer_15936374205719693 = $3Dmol.createViewer($(\"#3dmolviewer_15936374205719693\"),{backgroundColor:\"white\"});\n",
       "\tviewer_15936374205719693.addModel(\"\\n     RDKit          3D\\n\\n  8  7  0  0  0  0  0  0  0  0999 V2000\\n    0.7279    0.0348   -0.0415 C   0  0  0  0  0  0  0  0  0  0  0  0\\n   -0.8348    0.0110    0.0122 C   0  0  0  0  0  0  0  0  0  0  0  0\\n    1.2611   -0.7421   -0.6175 H   0  0  0  0  0  0  0  0  0  0  0  0\\n    1.1431   -0.1586    1.0748 H   0  0  0  0  0  0  0  0  0  0  0  0\\n    1.1086    1.0050   -0.3841 H   0  0  0  0  0  0  0  0  0  0  0  0\\n   -1.2437    0.9570    0.4002 H   0  0  0  0  0  0  0  0  0  0  0  0\\n   -1.0975   -0.1574   -0.9905 H   0  0  0  0  0  0  0  0  0  0  0  0\\n   -1.0648   -0.9498    0.5466 H   0  0  0  0  0  0  0  0  0  0  0  0\\n  1  2  1  0\\n  1  3  1  0\\n  1  4  1  0\\n  1  5  1  0\\n  2  6  1  0\\n  2  7  1  0\\n  2  8  1  0\\nM  END\\n\",\"mol\");\n",
       "\tviewer_15936374205719693.setStyle({\"stick\": {\"colorscheme\": \"cyanCarbon\"}});\n",
       "\tviewer_15936374205719693.zoomTo();\n",
       "viewer_15936374205719693.render();\n",
       "});\n",
       "</script>"
      ]
     },
     "metadata": {},
     "output_type": "display_data"
    }
   ],
   "source": [
    "conf = smi2conf(smiles, path, offset)\n",
    "viewer = MolTo3DView(conf, size=(img_height, img_width), style=img_style)\n",
    "viewer.show()"
   ]
  }
 ],
 "metadata": {
  "kernelspec": {
   "display_name": "conformation",
   "language": "python",
   "name": "conformation"
  },
  "language_info": {
   "codemirror_mode": {
    "name": "ipython",
    "version": 3
   },
   "file_extension": ".py",
   "mimetype": "text/x-python",
   "name": "python",
   "nbconvert_exporter": "python",
   "pygments_lexer": "ipython3",
   "version": "3.8.3"
  }
 },
 "nbformat": 4,
 "nbformat_minor": 4
}
