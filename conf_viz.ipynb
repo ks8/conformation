{
 "cells": [
  {
   "cell_type": "code",
   "execution_count": 1,
   "metadata": {},
   "outputs": [],
   "source": [
    "import numpy as np\n",
    "import rdkit\n",
    "from rdkit import Chem\n",
    "from rdkit.Chem import AllChem, rdDistGeom\n",
    "import py3Dmol"
   ]
  },
  {
   "cell_type": "code",
   "execution_count": 3,
   "metadata": {},
   "outputs": [],
   "source": [
    "m = Chem.MolFromSmiles('CC')\n",
    "m2 = Chem.AddHs(m)\n",
    "ps = AllChem.ETKDG()\n",
    "distmat = np.loadtxt(\"distmat-0.txt\")\n",
    "num_atoms = distmat.shape[0]\n",
    "for i in range(num_atoms):\n",
    "    for j in range(num_atoms):\n",
    "        if j > i:\n",
    "            distmat[i][j] += 0.0005\n",
    "            distmat[j][i] -= 0.0005\n",
    "ps.SetBoundsMat(distmat)\n",
    "AllChem.EmbedMolecule(m2, params=ps)\n",
    "print(Chem.rdmolfiles.MolToPDBBlock(m2), file=open(\"test-conf5\", \"w+\"))"
   ]
  },
  {
   "cell_type": "code",
   "execution_count": 11,
   "metadata": {},
   "outputs": [],
   "source": [
    "def MolTo3DView(mol, size=(300, 300), style=\"stick\", surface=False, opacity=0.5):\n",
    "    \"\"\"Draw molecule in 3D\n",
    "    \n",
    "    Args:\n",
    "    ----\n",
    "        mol: rdMol, molecule to show\n",
    "        size: tuple(int, int), canvas size\n",
    "        style: str, type of drawing molecule\n",
    "               style can be 'line', 'stick', 'sphere', 'carton'\n",
    "        surface, bool, display SAS\n",
    "        opacity, float, opacity of surface, range 0.0-1.0\n",
    "    Return:\n",
    "    ----\n",
    "        viewer: py3Dmol.view, a class for constructing embedded 3Dmol.js views in ipython notebooks.\n",
    "    \"\"\"\n",
    "    assert style in ('line', 'stick', 'sphere', 'cartoon')\n",
    "    mblock = Chem.MolToMolBlock(mol)\n",
    "    viewer = py3Dmol.view(width=size[0], height=size[1])\n",
    "    viewer.addModel(mblock, 'mol')\n",
    "    viewer.setStyle({style:{'colorscheme':'cyanCarbon'}})\n",
    "    if surface:\n",
    "        viewer.addSurface(py3Dmol.SAS, {'opacity': opacity})\n",
    "    viewer.zoomTo()\n",
    "    return viewer"
   ]
  },
  {
   "cell_type": "code",
   "execution_count": 17,
   "metadata": {},
   "outputs": [
    {
     "data": {
      "application/3dmoljs_load.v0": "<div id=\"3dmolviewer_15936280485012293\"  style=\"position: relative; width: 600px; height: 600px\">\n        <p id=\"3dmolwarning_15936280485012293\" style=\"background-color:#ffcccc;color:black\">You appear to be running in JupyterLab (or JavaScript failed to load for some other reason).  You need to install the 3dmol extension: <br>\n        <tt>jupyter labextension install jupyterlab_3dmol</tt></p>\n        </div>\n<script>\n\nvar loadScriptAsync = function(uri){\n  return new Promise((resolve, reject) => {\n    var tag = document.createElement('script');\n    tag.src = uri;\n    tag.async = true;\n    tag.onload = () => {\n      resolve();\n    };\n  var firstScriptTag = document.getElementsByTagName('script')[0];\n  firstScriptTag.parentNode.insertBefore(tag, firstScriptTag);\n});\n};\n\nif(typeof $3Dmolpromise === 'undefined') {\n$3Dmolpromise = null;\n  $3Dmolpromise = loadScriptAsync('https://3dmol.csb.pitt.edu/build/3Dmol.js');\n}\n\nvar viewer_15936280485012293 = null;\nvar warn = document.getElementById(\"3dmolwarning_15936280485012293\");\nif(warn) {\n    warn.parentNode.removeChild(warn);\n}\n$3Dmolpromise.then(function() {\nviewer_15936280485012293 = $3Dmol.createViewer($(\"#3dmolviewer_15936280485012293\"),{backgroundColor:\"white\"});\n\tviewer_15936280485012293.addModel(\"\\n     RDKit          3D\\n\\n  8  7  0  0  0  0  0  0  0  0999 V2000\\n    0.7277    0.0352   -0.0415 C   0  0  0  0  0  0  0  0  0  0  0  0\\n   -0.8349    0.0109    0.0125 C   0  0  0  0  0  0  0  0  0  0  0  0\\n    1.2608   -0.7415   -0.6185 H   0  0  0  0  0  0  0  0  0  0  0  0\\n    1.1435   -0.1599    1.0743 H   0  0  0  0  0  0  0  0  0  0  0  0\\n    1.1086    1.0055   -0.3834 H   0  0  0  0  0  0  0  0  0  0  0  0\\n   -1.2436    0.9566    0.4013 H   0  0  0  0  0  0  0  0  0  0  0  0\\n   -1.0974   -0.1563   -0.9907 H   0  0  0  0  0  0  0  0  0  0  0  0\\n   -1.0648   -0.9505    0.5460 H   0  0  0  0  0  0  0  0  0  0  0  0\\n  1  2  1  0\\n  1  3  1  0\\n  1  4  1  0\\n  1  5  1  0\\n  2  6  1  0\\n  2  7  1  0\\n  2  8  1  0\\nM  END\\n\",\"mol\");\n\tviewer_15936280485012293.setStyle({\"stick\": {\"colorscheme\": \"cyanCarbon\"}});\n\tviewer_15936280485012293.zoomTo();\nviewer_15936280485012293.render();\n});\n</script>",
      "text/html": [
       "<div id=\"3dmolviewer_15936280485012293\"  style=\"position: relative; width: 600px; height: 600px\">\n",
       "        <p id=\"3dmolwarning_15936280485012293\" style=\"background-color:#ffcccc;color:black\">You appear to be running in JupyterLab (or JavaScript failed to load for some other reason).  You need to install the 3dmol extension: <br>\n",
       "        <tt>jupyter labextension install jupyterlab_3dmol</tt></p>\n",
       "        </div>\n",
       "<script>\n",
       "\n",
       "var loadScriptAsync = function(uri){\n",
       "  return new Promise((resolve, reject) => {\n",
       "    var tag = document.createElement('script');\n",
       "    tag.src = uri;\n",
       "    tag.async = true;\n",
       "    tag.onload = () => {\n",
       "      resolve();\n",
       "    };\n",
       "  var firstScriptTag = document.getElementsByTagName('script')[0];\n",
       "  firstScriptTag.parentNode.insertBefore(tag, firstScriptTag);\n",
       "});\n",
       "};\n",
       "\n",
       "if(typeof $3Dmolpromise === 'undefined') {\n",
       "$3Dmolpromise = null;\n",
       "  $3Dmolpromise = loadScriptAsync('https://3dmol.csb.pitt.edu/build/3Dmol.js');\n",
       "}\n",
       "\n",
       "var viewer_15936280485012293 = null;\n",
       "var warn = document.getElementById(\"3dmolwarning_15936280485012293\");\n",
       "if(warn) {\n",
       "    warn.parentNode.removeChild(warn);\n",
       "}\n",
       "$3Dmolpromise.then(function() {\n",
       "viewer_15936280485012293 = $3Dmol.createViewer($(\"#3dmolviewer_15936280485012293\"),{backgroundColor:\"white\"});\n",
       "\tviewer_15936280485012293.addModel(\"\\n     RDKit          3D\\n\\n  8  7  0  0  0  0  0  0  0  0999 V2000\\n    0.7277    0.0352   -0.0415 C   0  0  0  0  0  0  0  0  0  0  0  0\\n   -0.8349    0.0109    0.0125 C   0  0  0  0  0  0  0  0  0  0  0  0\\n    1.2608   -0.7415   -0.6185 H   0  0  0  0  0  0  0  0  0  0  0  0\\n    1.1435   -0.1599    1.0743 H   0  0  0  0  0  0  0  0  0  0  0  0\\n    1.1086    1.0055   -0.3834 H   0  0  0  0  0  0  0  0  0  0  0  0\\n   -1.2436    0.9566    0.4013 H   0  0  0  0  0  0  0  0  0  0  0  0\\n   -1.0974   -0.1563   -0.9907 H   0  0  0  0  0  0  0  0  0  0  0  0\\n   -1.0648   -0.9505    0.5460 H   0  0  0  0  0  0  0  0  0  0  0  0\\n  1  2  1  0\\n  1  3  1  0\\n  1  4  1  0\\n  1  5  1  0\\n  2  6  1  0\\n  2  7  1  0\\n  2  8  1  0\\nM  END\\n\",\"mol\");\n",
       "\tviewer_15936280485012293.setStyle({\"stick\": {\"colorscheme\": \"cyanCarbon\"}});\n",
       "\tviewer_15936280485012293.zoomTo();\n",
       "viewer_15936280485012293.render();\n",
       "});\n",
       "</script>"
      ]
     },
     "metadata": {},
     "output_type": "display_data"
    }
   ],
   "source": [
    "from rdkit import Chem\n",
    "from rdkit.Chem import AllChem\n",
    "\n",
    "def smi2conf(smiles):\n",
    "    '''Convert SMILES to rdkit.Mol with 3D coordinates'''\n",
    "    mol = Chem.MolFromSmiles(smiles)\n",
    "    if mol is not None:\n",
    "        mol = Chem.AddHs(mol)\n",
    "        ps = AllChem.ETKDG()\n",
    "        distmat = np.loadtxt(\"distmat-0.txt\")\n",
    "        num_atoms = distmat.shape[0]\n",
    "        for i in range(num_atoms):\n",
    "            for j in range(num_atoms):\n",
    "                if j > i:\n",
    "                    distmat[i][j] += 0.0005\n",
    "                    distmat[j][i] -= 0.0005\n",
    "        ps.SetBoundsMat(distmat)\n",
    "        AllChem.EmbedMolecule(mol, params=ps)\n",
    "        \n",
    "        return mol\n",
    "    else:\n",
    "        return None\n",
    "\n",
    "smi = 'CC'\n",
    "conf = smi2conf(smi)\n",
    "viewer = MolTo3DView(conf, size=(600, 600), style='stick', opacity=0.8)\n",
    "viewer.show()"
   ]
  },
  {
   "cell_type": "code",
   "execution_count": null,
   "metadata": {},
   "outputs": [],
   "source": []
  },
  {
   "cell_type": "code",
   "execution_count": null,
   "metadata": {},
   "outputs": [],
   "source": []
  },
  {
   "cell_type": "code",
   "execution_count": 64,
   "metadata": {},
   "outputs": [
    {
     "data": {
      "text/plain": [
       "10"
      ]
     },
     "execution_count": 64,
     "metadata": {},
     "output_type": "execute_result"
    }
   ],
   "source": [
    "5 + 5"
   ]
  },
  {
   "cell_type": "code",
   "execution_count": null,
   "metadata": {},
   "outputs": [],
   "source": []
  }
 ],
 "metadata": {
  "kernelspec": {
   "display_name": "conformation",
   "language": "python",
   "name": "conformation"
  },
  "language_info": {
   "codemirror_mode": {
    "name": "ipython",
    "version": 3
   },
   "file_extension": ".py",
   "mimetype": "text/x-python",
   "name": "python",
   "nbconvert_exporter": "python",
   "pygments_lexer": "ipython3",
   "version": "3.8.3"
  }
 },
 "nbformat": 4,
 "nbformat_minor": 4
}
